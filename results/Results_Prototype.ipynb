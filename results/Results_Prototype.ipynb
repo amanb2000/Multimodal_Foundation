{
 "cells": [
  {
   "attachments": {},
   "cell_type": "markdown",
   "metadata": {},
   "source": [
    "# Results Prototype Notebook\n",
    "\n",
    "## Framing\n",
    "\n",
    "This notebook generates the linear probing and inter-class distance metrics for a trained Perceiver Autoencoder model (with or without predictive loss). \n",
    "\n",
    "## Design\n",
    " - Load the `validate` set from Kinetics 400. \n",
    "     - Parse the text file in `Multimodal_Foundation/datasets/Kinetics/frame_cnts_val.txt` to get the actual number of frames. \n",
    "     - Load some random segment from that number of frames (use random seed or store this somehow). \n",
    "     - Figure out how to make a `tf.Dataset` with labels from this. \n",
    " - Load a trained model, parse the data, generate latent representations of each video in the validation set. \n",
    " - Do a cheeky PCA on the data, take a look. \n",
    " - Figure out how the ViT-MAE paper performed linear probing. \n",
    " - Perform linear probing, compute top-5 accuracy. "
   ]
  },
  {
   "cell_type": "code",
   "execution_count": 1,
   "metadata": {},
   "outputs": [
    {
     "name": "stderr",
     "output_type": "stream",
     "text": [
      "2022-12-21 10:51:33.404393: I tensorflow/core/platform/cpu_feature_guard.cc:193] This TensorFlow binary is optimized with oneAPI Deep Neural Network Library (oneDNN) to use the following CPU instructions in performance-critical operations:  AVX2 AVX512F AVX512_VNNI FMA\n",
      "To enable them in other operations, rebuild TensorFlow with the appropriate compiler flags.\n",
      "2022-12-21 10:51:33.540252: I tensorflow/core/util/util.cc:169] oneDNN custom operations are on. You may see slightly different numerical results due to floating-point round-off errors from different computation orders. To turn them off, set the environment variable `TF_ENABLE_ONEDNN_OPTS=0`.\n",
      "2022-12-21 10:51:33.568401: E tensorflow/stream_executor/cuda/cuda_blas.cc:2981] Unable to register cuBLAS factory: Attempting to register factory for plugin cuBLAS when one has already been registered\n",
      "2022-12-21 10:51:34.159811: W tensorflow/stream_executor/platform/default/dso_loader.cc:64] Could not load dynamic library 'libnvinfer.so.7'; dlerror: libnvinfer.so.7: cannot open shared object file: No such file or directory; LD_LIBRARY_PATH: :/home/aman/miniconda3/lib/\n",
      "2022-12-21 10:51:34.159863: W tensorflow/stream_executor/platform/default/dso_loader.cc:64] Could not load dynamic library 'libnvinfer_plugin.so.7'; dlerror: libnvinfer_plugin.so.7: cannot open shared object file: No such file or directory; LD_LIBRARY_PATH: :/home/aman/miniconda3/lib/\n",
      "2022-12-21 10:51:34.159868: W tensorflow/compiler/tf2tensorrt/utils/py_utils.cc:38] TF-TRT Warning: Cannot dlopen some TensorRT libraries. If you would like to use Nvidia GPU with TensorRT, please make sure the missing libraries mentioned above are installed properly.\n"
     ]
    },
    {
     "name": "stdout",
     "output_type": "stream",
     "text": [
      "LOGICAL GPUs:  [LogicalDevice(name='/device:GPU:0', device_type='GPU'), LogicalDevice(name='/device:GPU:1', device_type='GPU')]\n"
     ]
    },
    {
     "name": "stderr",
     "output_type": "stream",
     "text": [
      "2022-12-21 10:51:35.110806: I tensorflow/core/platform/cpu_feature_guard.cc:193] This TensorFlow binary is optimized with oneAPI Deep Neural Network Library (oneDNN) to use the following CPU instructions in performance-critical operations:  AVX2 AVX512F AVX512_VNNI FMA\n",
      "To enable them in other operations, rebuild TensorFlow with the appropriate compiler flags.\n",
      "2022-12-21 10:51:37.264688: W tensorflow/core/common_runtime/gpu/gpu_bfc_allocator.cc:42] Overriding orig_value setting because the TF_FORCE_GPU_ALLOW_GROWTH environment variable is set. Original config value was 0.\n",
      "2022-12-21 10:51:37.264745: I tensorflow/core/common_runtime/gpu/gpu_device.cc:1616] Created device /job:localhost/replica:0/task:0/device:GPU:0 with 21840 MB memory:  -> device: 0, name: NVIDIA GeForce RTX 3090 Ti, pci bus id: 0000:1a:00.0, compute capability: 8.6\n",
      "2022-12-21 10:51:37.266249: W tensorflow/core/common_runtime/gpu/gpu_bfc_allocator.cc:42] Overriding orig_value setting because the TF_FORCE_GPU_ALLOW_GROWTH environment variable is set. Original config value was 0.\n",
      "2022-12-21 10:51:37.266291: I tensorflow/core/common_runtime/gpu/gpu_device.cc:1616] Created device /job:localhost/replica:0/task:0/device:GPU:1 with 21842 MB memory:  -> device: 1, name: NVIDIA GeForce RTX 3090 Ti, pci bus id: 0000:68:00.0, compute capability: 8.6\n"
     ]
    }
   ],
   "source": [
    "## Import box\n",
    "import os \n",
    "import sys \n",
    "import random\n",
    "import pathlib\n",
    "import itertools\n",
    "import collections\n",
    "import math\n",
    "import argparse\n",
    "import datetime\n",
    "import pickle\n",
    "import pdb\n",
    "import time\n",
    "import re\n",
    "from packaging import version\n",
    "\n",
    "os.environ[\"TF_GPU_THREAD_MODE\"] = \"gpu_private\"\n",
    "os.environ['TF_FORCE_GPU_ALLOW_GROWTH'] = 'true'\n",
    "\n",
    "sys.path.append(\"../src\")       # Adding src folder to path\n",
    "sys.path.append(\"../src/utils\") # Adding utils folder to path\n",
    "\n",
    "import tensorflow as tf \n",
    "from tensorflow import keras\n",
    "# import tensorflow_addons as tfa\n",
    "import numpy as np\n",
    "import matplotlib.pyplot as plt\n",
    "from tqdm import tqdm\n",
    "import cv2\n",
    "import imageio\n",
    "from tqdm import tqdm \n",
    "\n",
    "import model\n",
    "import video_loader as vl\n",
    "import video_preprocess as vp\n",
    "import train_m2\n",
    "import parallel_video_loader as pvl"
   ]
  },
  {
   "cell_type": "code",
   "execution_count": 2,
   "metadata": {},
   "outputs": [],
   "source": [
    "## Constants -- specify which experiment we are going to generate \n",
    "#               embeddings for and test.\n",
    "EXPERIMENT_FOLDER = \"../training/debug/2022-12-20_15:31:39\"\n",
    "assert os.path.exists(EXPERIMENT_FOLDER)"
   ]
  },
  {
   "attachments": {},
   "cell_type": "markdown",
   "metadata": {},
   "source": [
    "## 0: Load Experiment Params\n",
    "\n",
    "To make sure we format the data properly, we need to know the contents of `data_format_args.pkl` from the relevant experiment. Let's load this dict here:"
   ]
  },
  {
   "cell_type": "code",
   "execution_count": 3,
   "metadata": {},
   "outputs": [
    {
     "name": "stdout",
     "output_type": "stream",
     "text": [
      "{'k_space': 15, 'mu_space': 20, 'k_time': 64, 'mu_time': 200, 'out_size': ['120', '180'], 'patch_height': 8, 'patch_width': 8, 'patch_duration': 1} \n",
      "\n",
      "{'encoder_args': [1], 'encoder_kwargs': {'tfblock_residual': False, 'n_heads': 15, 'key_dim': 15, 'mha_dropout': 0.1}, 'latent_ev_args': [1], 'latent_ev_kwargs': {'distinct_blocks': True, 'tfblock_residual': False, 'n_heads': 15, 'key_dim': 15, 'mha_dropout': 0.1}, 'decoder_args': [192, 1, 0], 'decoder_kwargs': {'tfblock_residual': False, 'n_heads': 15, 'key_dim': 15, 'mha_dropout': 0.1}, 'perceiver_kwargs': {'code_dim': 191, 'latent_dims': [50, 100]}} \n",
      "\n",
      "{'alpha': 0.7, 'present_time_window': 1, 'prediction_time_window': 3, 'prob_prediction_select': 0.1, 'mask_ratio': 0.3, 'num_frames': 50} \n",
      "\n"
     ]
    }
   ],
   "source": [
    "# Load `data_format_args.pkl` !\n",
    "instant_param_pth = os.path.join(EXPERIMENT_FOLDER, 'instantiation_params.pkl')\n",
    "with open(instant_param_pth, 'rb') as handle:\n",
    "    instantiation_params = pickle.load(handle)\n",
    "\n",
    "\n",
    "# Load `data_format_args.pkl` !\n",
    "data_format_pth = os.path.join(EXPERIMENT_FOLDER, 'data_format_args.pkl')\n",
    "with open(data_format_pth, 'rb') as handle:\n",
    "    data_format_args = pickle.load(handle)\n",
    "\n",
    "predictive_param_pth = os.path.join(EXPERIMENT_FOLDER, 'predictive_training_kwargs.pkl')\n",
    "with open(predictive_param_pth, 'rb') as handle:\n",
    "    predictive_training_kwargs = pickle.load(handle)\n",
    "\n",
    "print(data_format_args, \"\\n\")           # dataset formatting args\n",
    "print(instantiation_params, \"\\n\")       # model instantiation args\n",
    "print(predictive_training_kwargs, \"\\n\") # Predictive coding args (incl. `num_frames`)"
   ]
  },
  {
   "attachments": {},
   "cell_type": "markdown",
   "metadata": {},
   "source": [
    "## 1: Loading the Data (Kinetics-400 Validation Set)\n",
    "\n",
    "The relative path to the Kinetics 400 validation set is `../datasets/Kinetics/validate`. Within this folder, each of the 400 action classes has a subfolder containing videos of that class. \n",
    "\n",
    "There is also a text file called `frame_cnts_val.txt`. Each line pertains to one video file and is of the form `Easy: 411.0, hard: 301 -- validate/testifying/_yMeY9-Gi0k.mp4`. \"Easy\" refers to the number of frames as counted by the OpenCV default frame counting system, whereas \"hard\" refers to the number of frames as counted when actually reading in the videos. After that is the path of the video. The \"hard\" count for the number of frames should be used when sampling frames from the video as the \"easy\" count generally overestimates. "
   ]
  },
  {
   "cell_type": "code",
   "execution_count": 4,
   "metadata": {},
   "outputs": [],
   "source": [
    "frame_count_file_path = \"../datasets/Kinetics/validate/frame_cnts_val.txt\"\n",
    "dataset_path = \"../datasets/Kinetics\""
   ]
  },
  {
   "attachments": {},
   "cell_type": "markdown",
   "metadata": {},
   "source": [
    "### 1a: Load `frame_cnts_val.txt`\n",
    "\n",
    "This should be loaded as a list of tuples of `(path, frame_count)`. "
   ]
  },
  {
   "cell_type": "code",
   "execution_count": 5,
   "metadata": {},
   "outputs": [
    {
     "data": {
      "text/plain": [
       "[('../datasets/Kinetics/validate/testifying/d56f_a99t1c.mp4', 301),\n",
       " ('../datasets/Kinetics/validate/testifying/tEKCm7GcoHg.mp4', 301),\n",
       " ('../datasets/Kinetics/validate/testifying/iLOF-6cUGSU.mp4', 301),\n",
       " ('../datasets/Kinetics/validate/testifying/Wip-BDZQQno.mp4', 301),\n",
       " ('../datasets/Kinetics/validate/testifying/CGAOCOEEwEQ.mp4', 211)]"
      ]
     },
     "execution_count": 5,
     "metadata": {},
     "output_type": "execute_result"
    }
   ],
   "source": [
    "def get_frame_counts(path_to_counts, dataset_path): \n",
    "    frame_count_list = []\n",
    "    with open(path_to_counts) as count_file:\n",
    "        for line in count_file:\n",
    "            hard_cnt = re.search(r'hard: \\d+', line)\n",
    "            if hard_cnt is None:\n",
    "                continue\n",
    "            hard_cnt = int(hard_cnt.group(0)[6:])\n",
    "\n",
    "            path = re.search(r'-- \\S*', line)\n",
    "            path = path.group(0)[3:]\n",
    "\n",
    "            new_tup = (os.path.join(dataset_path, path), hard_cnt)\n",
    "            frame_count_list.append(new_tup)\n",
    "    return frame_count_list\n",
    "\n",
    "frame_counts = get_frame_counts(frame_count_file_path, dataset_path)\n",
    "frame_counts[:5]"
   ]
  },
  {
   "attachments": {},
   "cell_type": "markdown",
   "metadata": {},
   "source": [
    "### 1b: Load a List of Video Matrices (`numpy`)\n",
    "\n",
    "Use `parallel_video_loader`'s (`pvl`'s) `load_video_range(video_path, start_frame, num_frames, output_size)` function to load a random subset of the frames. For now, we can use the following parameters: \n",
    " - `num_frames`: 4\n",
    " - `output_size`: (120,180)\n",
    " - `start_frame`: 0 \n",
    "\n",
    "Use the `frame_counts` tuple to get the paths of each video and to make sure they have sufficiently many frames.\n"
   ]
  },
  {
   "cell_type": "code",
   "execution_count": 6,
   "metadata": {},
   "outputs": [
    {
     "name": "stdout",
     "output_type": "stream",
     "text": [
      "Number of frames: 1;\n",
      "Output size: [120, 180]\n"
     ]
    },
    {
     "name": "stderr",
     "output_type": "stream",
     "text": [
      " 64%|██████▍   | 64/100 [00:03<00:01, 18.98it/s]"
     ]
    },
    {
     "name": "stdout",
     "output_type": "stream",
     "text": [
      "Insufficient frames in ../datasets/Kinetics/validate/picking_fruit/rEBI45efv6o.mp4 -- only 0 frames!\n"
     ]
    },
    {
     "name": "stderr",
     "output_type": "stream",
     "text": [
      "101it [00:06, 16.43it/s]                        \n"
     ]
    }
   ],
   "source": [
    "START_FRAME = 0\n",
    "VIDEO_LIMIT = 100 # maximum number of videos to load.\n",
    "\n",
    "num_frames = predictive_training_kwargs['present_time_window'] # + predictive_training_kwargs['prediction_time_window']\n",
    "output_size = data_format_args['out_size']\n",
    "output_size = [int(i) for i in output_size]\n",
    "print(f\"Number of frames: {num_frames};\\nOutput size: {output_size}\")\n",
    "\n",
    "np_video_list = []\n",
    "i = 0\n",
    "for pth, cnt in tqdm(frame_counts, total=VIDEO_LIMIT): \n",
    "    frames_in = None\n",
    "    if cnt > num_frames: \n",
    "        frames_in = pvl.load_video_range(pth, START_FRAME, num_frames, output_size)\n",
    "        np_video_list.append((pth, frames_in))\n",
    "        i += 1\n",
    "    else: \n",
    "        print(f\"Insufficient frames in {pth} -- only {cnt} frames!\")\n",
    "    if i > VIDEO_LIMIT and VIDEO_LIMIT > 0:\n",
    "        break\n"
   ]
  },
  {
   "cell_type": "code",
   "execution_count": 7,
   "metadata": {},
   "outputs": [
    {
     "name": "stdout",
     "output_type": "stream",
     "text": [
      "(1, 1, 120, 180, 3)\n",
      "\t<==> [batch (1), num_frames, height, width, rgb_channels (3)]\n",
      "\n",
      "Label: ../datasets/Kinetics/validate/testifying/d56f_a99t1c.mp4\n"
     ]
    }
   ],
   "source": [
    "print(np_video_list[0][1].shape) # \n",
    "print(\"\\t<==> [batch (1), num_frames, height, width, rgb_channels (3)]\")\n",
    "print(f\"\\nLabel: {np_video_list[0][0]}\")"
   ]
  },
  {
   "attachments": {},
   "cell_type": "markdown",
   "metadata": {},
   "source": [
    "### 1c: Convert/Process the List of Videos $\\to$ `tf.Tensor`\n",
    "\n",
    "Follow the procedure in [vp.get_videosets()](https://github.com/amanb2000/Multimodal_Foundation/blob/06bacc67f37c6dfb9de811ca78345fa312d9964d/src/utils/video_preprocess.py#L238) to convert the list of numpy matrices into patched/positionally encoded tensors. \n",
    "\n",
    "Optimally, we still want this to be a regular python `list` rather than a Tensorflow `Dataset`. This will make it easier to keep track of the labels in a parallel list. "
   ]
  },
  {
   "cell_type": "code",
   "execution_count": 8,
   "metadata": {},
   "outputs": [
    {
     "name": "stdout",
     "output_type": "stream",
     "text": [
      "Patch hwd:  8 8 1\n"
     ]
    }
   ],
   "source": [
    "# 1: `make_patchset`\n",
    "import video_preprocess as vp\n",
    "patch_duration, patch_height, patch_width = data_format_args['patch_duration'], data_format_args['patch_height'], data_format_args['patch_width']\n",
    "print(\"Patch hwd: \", patch_height, patch_width, patch_duration)\n",
    "ks = [1, patch_duration, patch_height, patch_width, 1]\n",
    "patch_video_list = [ ( i[0], vp.create_patches(i[1], ksizes=ks) ) for i in np_video_list ]\n",
    "\n",
    "# 2: `patch_to_flatpatch` \n",
    "flatpatch_list = [ ( i[0], vp.flatten_patched(i[1]) ) for i in patch_video_list ]"
   ]
  },
  {
   "cell_type": "code",
   "execution_count": 12,
   "metadata": {},
   "outputs": [
    {
     "name": "stdout",
     "output_type": "stream",
     "text": [
      "In flatpatch_list:\n",
      "\tdtype: <class 'tensorflow.python.framework.ops.EagerTensor'>\n",
      "\tshape: (1, 330, 192)\n",
      "\tdtype: <dtype: 'uint8'>\n"
     ]
    }
   ],
   "source": [
    "print(f\"In flatpatch_list:\")\n",
    "print(f\"\\tdtype: {type(flatpatch_list[0][1])}\")\n",
    "print(f\"\\tshape: {flatpatch_list[0][1].shape}\")\n",
    "print(f\"\\tdtype: {flatpatch_list[0][1].dtype}\")"
   ]
  },
  {
   "attachments": {},
   "cell_type": "markdown",
   "metadata": {},
   "source": [
    "## 2: Load the Model \n",
    "\n",
    "From `EXPERIMENT_FOLDER` we need to instantiate and load the model weights. We can follow the procedure from [execute_experiment.py](https://github.com/amanb2000/Multimodal_Foundation/blob/06bacc67f37c6dfb9de811ca78345fa312d9964d/src/execute_experiment.py#L445)'s code that does this. "
   ]
  },
  {
   "cell_type": "code",
   "execution_count": 9,
   "metadata": {},
   "outputs": [
    {
     "data": {
      "text/plain": [
       "Ellipsis"
      ]
     },
     "execution_count": 9,
     "metadata": {},
     "output_type": "execute_result"
    }
   ],
   "source": [
    "..."
   ]
  },
  {
   "attachments": {},
   "cell_type": "markdown",
   "metadata": {},
   "source": [
    "## 3: Create Embeddings using the Model\n",
    "\n",
    "`NOTE`: We need to make sure our positional codes match the ones the model is expecting. Be sure to generate them, following `execute_experiment.py`'s method of doing that, and append the correct ones to the `FlatPatchSet`-equivalent Tensors. \n",
    "\n",
    "Store the embeddings in another parallel list. "
   ]
  },
  {
   "cell_type": "code",
   "execution_count": null,
   "metadata": {},
   "outputs": [],
   "source": []
  },
  {
   "attachments": {},
   "cell_type": "markdown",
   "metadata": {},
   "source": [
    "## 4: Some Cheeky PCA\n",
    "\n",
    "Also do the inter-cluster distances here :) "
   ]
  },
  {
   "attachments": {},
   "cell_type": "markdown",
   "metadata": {},
   "source": [
    "## 5: Linear Probing (Simple sklearn)\n",
    "\n",
    "Once done, make sure this is actually what they did in ViT-MAE..."
   ]
  },
  {
   "cell_type": "markdown",
   "metadata": {},
   "source": []
  }
 ],
 "metadata": {
  "kernelspec": {
   "display_name": "MMF",
   "language": "python",
   "name": "mmf"
  },
  "language_info": {
   "codemirror_mode": {
    "name": "ipython",
    "version": 3
   },
   "file_extension": ".py",
   "mimetype": "text/x-python",
   "name": "python",
   "nbconvert_exporter": "python",
   "pygments_lexer": "ipython3",
   "version": "3.9.2"
  },
  "orig_nbformat": 4,
  "vscode": {
   "interpreter": {
    "hash": "7bb424496d90d9eff7a93e13c98d7ddc1d5da3a5925d09c92a85f3c2f93884c9"
   }
  }
 },
 "nbformat": 4,
 "nbformat_minor": 2
}
