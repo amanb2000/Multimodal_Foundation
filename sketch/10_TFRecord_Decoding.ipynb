{
 "cells": [
  {
   "cell_type": "markdown",
   "metadata": {},
   "source": [
    "# Decoding the TFRecord\n",
    "\n",
    "This is template code for reading in the datasets from the `TFRecord` format. "
   ]
  },
  {
   "cell_type": "code",
   "execution_count": null,
   "metadata": {},
   "outputs": [],
   "source": [
    "## Import Box\n",
    "import os \n",
    "\n",
    "import sys \n",
    "import random\n",
    "import pathlib\n",
    "import itertools\n",
    "import collections\n",
    "import math\n",
    "\n",
    "import tensorflow as tf \n",
    "from tensorflow import keras\n",
    "import numpy as np\n",
    "import matplotlib.pyplot as plt\n",
    "from tqdm import tqdm\n",
    "import cv2\n",
    "# Some modules to display an animation using imageio.\n",
    "import imageio"
   ]
  },
  {
   "cell_type": "code",
   "execution_count": null,
   "metadata": {},
   "outputs": [],
   "source": [
    "tfrecord_path = \"Test_TFRecords/full_10frame_dataset.tfrecord\""
   ]
  },
  {
   "cell_type": "code",
   "execution_count": null,
   "metadata": {},
   "outputs": [],
   "source": [
    "# Make a serialized dataset from the TFRecord file\n",
    "serialized_dset = tf.data.TFRecordDataset([tfrecord_path])"
   ]
  },
  {
   "cell_type": "code",
   "execution_count": 9,
   "metadata": {},
   "outputs": [
    {
     "name": "stdout",
     "output_type": "stream",
     "text": [
      "<class 'tensorflow.python.framework.ops.EagerTensor'>\n",
      "()\n",
      "<class 'bytes'>\n"
     ]
    }
   ],
   "source": [
    "serialized_element = None\n",
    "\n",
    "for ele in serialized_dset:\n",
    "\tserialized_element = ele\n",
    "\tbreak\n",
    "\n",
    "print(type(serialized_element))\n",
    "print(serialized_element.shape)\n",
    "print(type(serialized_element.numpy()))"
   ]
  },
  {
   "cell_type": "code",
   "execution_count": 11,
   "metadata": {},
   "outputs": [
    {
     "name": "stdout",
     "output_type": "stream",
     "text": [
      "<dtype: 'string'>\n"
     ]
    },
    {
     "ename": "TypeError",
     "evalue": "parse_tensor() missing 1 required positional argument: 'out_type'",
     "output_type": "error",
     "traceback": [
      "\u001b[0;31m---------------------------------------------------------------------------\u001b[0m",
      "\u001b[0;31mTypeError\u001b[0m                                 Traceback (most recent call last)",
      "Cell \u001b[0;32mIn [11], line 2\u001b[0m\n\u001b[1;32m      1\u001b[0m \u001b[39mprint\u001b[39m(serialized_element\u001b[39m.\u001b[39mdtype)\n\u001b[0;32m----> 2\u001b[0m deserialized \u001b[39m=\u001b[39m tf\u001b[39m.\u001b[39mio\u001b[39m.\u001b[39mparse_tensor(serialized_element)\n",
      "\u001b[0;31mTypeError\u001b[0m: parse_tensor() missing 1 required positional argument: 'out_type'"
     ]
    }
   ],
   "source": [
    "print(serialized_element.dtype)\n",
    "deserialized = tf.io.parse_tensor(serialized_element)"
   ]
  },
  {
   "cell_type": "code",
   "execution_count": null,
   "metadata": {},
   "outputs": [],
   "source": [
    "## Function to read back in from bytes\n",
    "def decode_fn(record_bytes):\n",
    "\treturn tf.io.parse_single_example(\n",
    "\t\trecord_bytes,\n",
    "\n",
    "\t\t{'feature0': }\n",
    "\n",
    "\t)"
   ]
  }
 ],
 "metadata": {
  "kernelspec": {
   "display_name": "MMF",
   "language": "python",
   "name": "mmf"
  },
  "language_info": {
   "codemirror_mode": {
    "name": "ipython",
    "version": 3
   },
   "file_extension": ".py",
   "mimetype": "text/x-python",
   "name": "python",
   "nbconvert_exporter": "python",
   "pygments_lexer": "ipython3",
   "version": "3.9.2"
  },
  "orig_nbformat": 4,
  "vscode": {
   "interpreter": {
    "hash": "7bb424496d90d9eff7a93e13c98d7ddc1d5da3a5925d09c92a85f3c2f93884c9"
   }
  }
 },
 "nbformat": 4,
 "nbformat_minor": 2
}
