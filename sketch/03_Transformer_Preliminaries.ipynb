{
 "cells": [
  {
   "cell_type": "markdown",
   "metadata": {},
   "source": [
    "# Transformer Preliminaries \n",
    "\n",
    "\n",
    "## Framing\n",
    "> GOAL: Create a notebook with proof-of-concepts/examples for each component of the upcoming transformer/Perceiver architecture. \n",
    "\n",
    "Objectives: \n",
    " 1. Gain familiarity with the code side of transformers.\n",
    " 2. Create examples of each unfamiliar components of the project. \n",
    " 3. Maximize copy-paste-ability. \n",
    "\n",
    "\n",
    "## Diverging \n",
    "> Things to create prototypes for.\n",
    "\n",
    " 1. Image/patch extraction. \n",
    " 2. "
   ]
  },
  {
   "cell_type": "code",
   "execution_count": null,
   "metadata": {},
   "outputs": [],
   "source": []
  }
 ],
 "metadata": {
  "kernelspec": {
   "display_name": "MMF",
   "language": "python",
   "name": "mmf"
  },
  "language_info": {
   "name": "python",
   "version": "3.9.2"
  },
  "orig_nbformat": 4,
  "vscode": {
   "interpreter": {
    "hash": "7bb424496d90d9eff7a93e13c98d7ddc1d5da3a5925d09c92a85f3c2f93884c9"
   }
  }
 },
 "nbformat": 4,
 "nbformat_minor": 2
}
