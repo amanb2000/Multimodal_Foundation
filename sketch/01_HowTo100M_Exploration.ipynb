{
 "cells": [
  {
   "cell_type": "markdown",
   "metadata": {},
   "source": [
    "# Browsing the HowTo100M Dataset\n",
    " - [ ] Load + view CSV.\n",
    " - [ ] Attempt to run video downloading scripts."
   ]
  },
  {
   "cell_type": "code",
   "execution_count": 30,
   "metadata": {},
   "outputs": [],
   "source": [
    "# IMPORT BOX \n",
    "import os \n",
    "import sys\n",
    "\n",
    "import numpy as np\n",
    "import pandas as pd\n",
    "from tqdm.notebook import tqdm\n",
    "\n",
    "import youtube_dl"
   ]
  },
  {
   "cell_type": "code",
   "execution_count": 31,
   "metadata": {},
   "outputs": [],
   "source": [
    "# Constants \n",
    "csv_path = \"../datasets/HowTo100M_v1.csv\"\n",
    "df = pd.read_csv(csv_path)"
   ]
  },
  {
   "cell_type": "code",
   "execution_count": 32,
   "metadata": {},
   "outputs": [
    {
     "data": {
      "text/html": [
       "<div>\n",
       "<style scoped>\n",
       "    .dataframe tbody tr th:only-of-type {\n",
       "        vertical-align: middle;\n",
       "    }\n",
       "\n",
       "    .dataframe tbody tr th {\n",
       "        vertical-align: top;\n",
       "    }\n",
       "\n",
       "    .dataframe thead th {\n",
       "        text-align: right;\n",
       "    }\n",
       "</style>\n",
       "<table border=\"1\" class=\"dataframe\">\n",
       "  <thead>\n",
       "    <tr style=\"text-align: right;\">\n",
       "      <th></th>\n",
       "      <th>video_id</th>\n",
       "      <th>category_1</th>\n",
       "      <th>category_2</th>\n",
       "      <th>rank</th>\n",
       "      <th>task_id</th>\n",
       "    </tr>\n",
       "  </thead>\n",
       "  <tbody>\n",
       "    <tr>\n",
       "      <th>0</th>\n",
       "      <td>nVbIUDjzWY4</td>\n",
       "      <td>Cars &amp; Other Vehicles</td>\n",
       "      <td>Motorcycles</td>\n",
       "      <td>27</td>\n",
       "      <td>52907</td>\n",
       "    </tr>\n",
       "    <tr>\n",
       "      <th>1</th>\n",
       "      <td>CTPAZ2euJ2Q</td>\n",
       "      <td>Cars &amp; Other Vehicles</td>\n",
       "      <td>Motorcycles</td>\n",
       "      <td>35</td>\n",
       "      <td>109057</td>\n",
       "    </tr>\n",
       "    <tr>\n",
       "      <th>2</th>\n",
       "      <td>rwmt7Cbuvfs</td>\n",
       "      <td>Cars &amp; Other Vehicles</td>\n",
       "      <td>Motorcycles</td>\n",
       "      <td>99</td>\n",
       "      <td>52907</td>\n",
       "    </tr>\n",
       "    <tr>\n",
       "      <th>3</th>\n",
       "      <td>HnTLh99gcxY</td>\n",
       "      <td>Cars &amp; Other Vehicles</td>\n",
       "      <td>Motorcycles</td>\n",
       "      <td>35</td>\n",
       "      <td>52907</td>\n",
       "    </tr>\n",
       "    <tr>\n",
       "      <th>4</th>\n",
       "      <td>EyP3HVhg1u0</td>\n",
       "      <td>Cars &amp; Other Vehicles</td>\n",
       "      <td>Motorcycles</td>\n",
       "      <td>95</td>\n",
       "      <td>52906</td>\n",
       "    </tr>\n",
       "    <tr>\n",
       "      <th>...</th>\n",
       "      <td>...</td>\n",
       "      <td>...</td>\n",
       "      <td>...</td>\n",
       "      <td>...</td>\n",
       "      <td>...</td>\n",
       "    </tr>\n",
       "    <tr>\n",
       "      <th>1238906</th>\n",
       "      <td>tVc0qvCeVfQ</td>\n",
       "      <td>Hobbies and Crafts</td>\n",
       "      <td>Crafts</td>\n",
       "      <td>41</td>\n",
       "      <td>38941</td>\n",
       "    </tr>\n",
       "    <tr>\n",
       "      <th>1238907</th>\n",
       "      <td>gIURSGIXX0Y</td>\n",
       "      <td>Hobbies and Crafts</td>\n",
       "      <td>Crafts</td>\n",
       "      <td>11</td>\n",
       "      <td>37466</td>\n",
       "    </tr>\n",
       "    <tr>\n",
       "      <th>1238908</th>\n",
       "      <td>gHTVgMEpR2Q</td>\n",
       "      <td>Food and Entertaining</td>\n",
       "      <td>Recipes</td>\n",
       "      <td>1</td>\n",
       "      <td>101069</td>\n",
       "    </tr>\n",
       "    <tr>\n",
       "      <th>1238909</th>\n",
       "      <td>_97kyZVWVG0</td>\n",
       "      <td>Hobbies and Crafts</td>\n",
       "      <td>Crafts</td>\n",
       "      <td>34</td>\n",
       "      <td>119814</td>\n",
       "    </tr>\n",
       "    <tr>\n",
       "      <th>1238910</th>\n",
       "      <td>gkjnR3-ZVts</td>\n",
       "      <td>Food and Entertaining</td>\n",
       "      <td>Drinks</td>\n",
       "      <td>6</td>\n",
       "      <td>25938</td>\n",
       "    </tr>\n",
       "  </tbody>\n",
       "</table>\n",
       "<p>1238911 rows × 5 columns</p>\n",
       "</div>"
      ],
      "text/plain": [
       "            video_id             category_1   category_2  rank  task_id\n",
       "0        nVbIUDjzWY4  Cars & Other Vehicles  Motorcycles    27    52907\n",
       "1        CTPAZ2euJ2Q  Cars & Other Vehicles  Motorcycles    35   109057\n",
       "2        rwmt7Cbuvfs  Cars & Other Vehicles  Motorcycles    99    52907\n",
       "3        HnTLh99gcxY  Cars & Other Vehicles  Motorcycles    35    52907\n",
       "4        EyP3HVhg1u0  Cars & Other Vehicles  Motorcycles    95    52906\n",
       "...              ...                    ...          ...   ...      ...\n",
       "1238906  tVc0qvCeVfQ     Hobbies and Crafts       Crafts    41    38941\n",
       "1238907  gIURSGIXX0Y     Hobbies and Crafts       Crafts    11    37466\n",
       "1238908  gHTVgMEpR2Q  Food and Entertaining      Recipes     1   101069\n",
       "1238909  _97kyZVWVG0     Hobbies and Crafts       Crafts    34   119814\n",
       "1238910  gkjnR3-ZVts  Food and Entertaining       Drinks     6    25938\n",
       "\n",
       "[1238911 rows x 5 columns]"
      ]
     },
     "execution_count": 32,
     "metadata": {},
     "output_type": "execute_result"
    }
   ],
   "source": [
    "df"
   ]
  },
  {
   "cell_type": "markdown",
   "metadata": {},
   "source": [
    "## Trying `youtube-dl`\n",
    "\n",
    "Source: [ACAV100M](https://github.com/sangho-vision/acav100m/blob/master/video_download/code/run.py) downloading script."
   ]
  },
  {
   "cell_type": "code",
   "execution_count": 33,
   "metadata": {},
   "outputs": [],
   "source": [
    "output_dir = \"downloads\""
   ]
  },
  {
   "cell_type": "code",
   "execution_count": 34,
   "metadata": {},
   "outputs": [],
   "source": [
    "def download(urls, output_dir):\n",
    "    ydl_opts = {\n",
    "        'outtmpl': str('%(id)s.%(ext)s'),\n",
    "        'merge_output_format': 'mp4',\n",
    "    }\n",
    "    with youtube_dl.YoutubeDL(ydl_opts) as ydl:\n",
    "        for vid, url in tqdm(urls.items(), total=len(urls)):\n",
    "            if not os.path.exists(f'{vid}.mp4'):\n",
    "                try:\n",
    "                    ydl.download([url])\n",
    "                except youtube_dl.utils.DownloadError as e:\n",
    "                    print(e)"
   ]
  },
  {
   "cell_type": "code",
   "execution_count": 36,
   "metadata": {},
   "outputs": [],
   "source": [
    "urls = {}\n",
    "LIMIT = 10\n",
    "\n",
    "\n",
    "cnt = 0\n",
    "for url in df['video_id']:\n",
    "\turls[url] = url\n",
    "\tcnt += 1 \n",
    "\tif cnt > LIMIT:\n",
    "\t\tbreak"
   ]
  },
  {
   "cell_type": "code",
   "execution_count": 37,
   "metadata": {},
   "outputs": [
    {
     "data": {
      "application/vnd.jupyter.widget-view+json": {
       "model_id": "492728440f894642bea89e1aad5609b5",
       "version_major": 2,
       "version_minor": 0
      },
      "text/plain": [
       "  0%|          | 0/11 [00:00<?, ?it/s]"
      ]
     },
     "metadata": {},
     "output_type": "display_data"
    },
    {
     "ename": "AttributeError",
     "evalue": "'str' object has no attribute 'is_file'",
     "output_type": "error",
     "traceback": [
      "\u001b[0;31m---------------------------------------------------------------------------\u001b[0m",
      "\u001b[0;31mAttributeError\u001b[0m                            Traceback (most recent call last)",
      "Cell \u001b[0;32mIn [37], line 1\u001b[0m\n\u001b[0;32m----> 1\u001b[0m download(urls, output_dir)\n",
      "Cell \u001b[0;32mIn [34], line 8\u001b[0m, in \u001b[0;36mdownload\u001b[0;34m(urls, output_dir)\u001b[0m\n\u001b[1;32m      6\u001b[0m \u001b[38;5;28;01mwith\u001b[39;00m youtube_dl\u001b[38;5;241m.\u001b[39mYoutubeDL(ydl_opts) \u001b[38;5;28;01mas\u001b[39;00m ydl:\n\u001b[1;32m      7\u001b[0m     \u001b[38;5;28;01mfor\u001b[39;00m vid, url \u001b[38;5;129;01min\u001b[39;00m tqdm(urls\u001b[38;5;241m.\u001b[39mitems(), total\u001b[38;5;241m=\u001b[39m\u001b[38;5;28mlen\u001b[39m(urls)):\n\u001b[0;32m----> 8\u001b[0m         \u001b[38;5;28;01mif\u001b[39;00m \u001b[38;5;129;01mnot\u001b[39;00m \u001b[43m(\u001b[49m\u001b[38;5;124;43mf\u001b[39;49m\u001b[38;5;124;43m'\u001b[39;49m\u001b[38;5;132;43;01m{\u001b[39;49;00m\u001b[43mvid\u001b[49m\u001b[38;5;132;43;01m}\u001b[39;49;00m\u001b[38;5;124;43m.mp4\u001b[39;49m\u001b[38;5;124;43m'\u001b[39;49m\u001b[43m)\u001b[49m\u001b[38;5;241;43m.\u001b[39;49m\u001b[43mis_file\u001b[49m():\n\u001b[1;32m      9\u001b[0m             \u001b[38;5;28;01mtry\u001b[39;00m:\n\u001b[1;32m     10\u001b[0m                 ydl\u001b[38;5;241m.\u001b[39mdownload([url])\n",
      "\u001b[0;31mAttributeError\u001b[0m: 'str' object has no attribute 'is_file'"
     ]
    }
   ],
   "source": [
    "download(urls, output_dir)"
   ]
  },
  {
   "cell_type": "code",
   "execution_count": null,
   "metadata": {},
   "outputs": [],
   "source": []
  },
  {
   "cell_type": "code",
   "execution_count": null,
   "metadata": {},
   "outputs": [],
   "source": []
  }
 ],
 "metadata": {
  "kernelspec": {
   "display_name": "MMF",
   "language": "python",
   "name": "mmf"
  },
  "language_info": {
   "codemirror_mode": {
    "name": "ipython",
    "version": 3
   },
   "file_extension": ".py",
   "mimetype": "text/x-python",
   "name": "python",
   "nbconvert_exporter": "python",
   "pygments_lexer": "ipython3",
   "version": "3.9.2"
  },
  "orig_nbformat": 4
 },
 "nbformat": 4,
 "nbformat_minor": 2
}
